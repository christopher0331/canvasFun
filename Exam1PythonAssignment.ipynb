{
  "nbformat": 4,
  "nbformat_minor": 0,
  "metadata": {
    "colab": {
      "provenance": [],
      "authorship_tag": "ABX9TyOSjyJWuZc8KCPelkbi4bud",
      "include_colab_link": true
    },
    "kernelspec": {
      "name": "python3",
      "display_name": "Python 3"
    },
    "language_info": {
      "name": "python"
    }
  },
  "cells": [
    {
      "cell_type": "markdown",
      "metadata": {
        "id": "view-in-github",
        "colab_type": "text"
      },
      "source": [
        "<a href=\"https://colab.research.google.com/github/christopher0331/canvasFun/blob/master/Exam1PythonAssignment.ipynb\" target=\"_parent\"><img src=\"https://colab.research.google.com/assets/colab-badge.svg\" alt=\"Open In Colab\"/></a>"
      ]
    },
    {
      "cell_type": "code",
      "execution_count": null,
      "metadata": {
        "id": "ZU7Pu8lCOHEd"
      },
      "outputs": [],
      "source": []
    },
    {
      "cell_type": "markdown",
      "source": [
        "#1"
      ],
      "metadata": {
        "id": "kLag7PtSQrN1"
      }
    },
    {
      "cell_type": "code",
      "source": [],
      "metadata": {
        "id": "UgPdTUXbQsGT"
      },
      "execution_count": null,
      "outputs": []
    },
    {
      "cell_type": "code",
      "source": [
        "import sympy as sp\n",
        "\n",
        "# Define the augmented matrix\n",
        "A = sp.Matrix([\n",
        "    [1, 2, 3, 4, 1],\n",
        "    [4, 3, 2, 1, 4],\n",
        "    [5, 0, -5, -10, 5],\n",
        "    [7, 4, 1, -2, 7]\n",
        "])\n",
        "\n",
        "# Convert to row-reduced echelon form\n",
        "A_rref = A.rref()[0]\n",
        "\n",
        "# Print the row-reduced echelon form\n",
        "print(\"Row-reduced echelon form:\")\n",
        "sp.pprint(A_rref)\n",
        "\n",
        "# Solution interpretation (for your understanding, not executed in code)\n",
        "# x1 = 1 + x3 + 2x4\n",
        "# x2 = -2x3 - 3x4\n",
        "# x3 and x4 are free variables\n"
      ],
      "metadata": {
        "colab": {
          "base_uri": "https://localhost:8080/"
        },
        "id": "mfnysOxrQsjV",
        "outputId": "713eec09-a46d-4658-b2bb-19d7e3c89b1b"
      },
      "execution_count": 2,
      "outputs": [
        {
          "output_type": "stream",
          "name": "stdout",
          "text": [
            "Row-reduced echelon form:\n",
            "⎡1  0  -1  -2  1⎤\n",
            "⎢               ⎥\n",
            "⎢0  1  2   3   0⎥\n",
            "⎢               ⎥\n",
            "⎢0  0  0   0   0⎥\n",
            "⎢               ⎥\n",
            "⎣0  0  0   0   0⎦\n"
          ]
        }
      ]
    },
    {
      "cell_type": "markdown",
      "source": [
        "#2"
      ],
      "metadata": {
        "id": "vEPYa2odTCMI"
      }
    },
    {
      "cell_type": "markdown",
      "source": [
        "False. A row of zeroes doesn't automatically mean no solutions. It depends on the augmented column.\n",
        "\n",
        "True. More variables than equations usually means more than one solution.\n",
        "\n",
        "True. The rank can't be more than the number of rows, so it's at most 3.\n",
        "\n",
        "True. If the zero vector is a solution, it's a homogenous system."
      ],
      "metadata": {
        "id": "OA4kloQITfAs"
      }
    },
    {
      "cell_type": "markdown",
      "source": [
        "#3"
      ],
      "metadata": {
        "id": "50JJmZOrThuQ"
      }
    },
    {
      "cell_type": "code",
      "source": [
        "# Import the SymPy library\n",
        "import sympy as sp\n",
        "\n",
        "# Define the matrices\n",
        "A = sp.Matrix([[1, 2, 3], [1, 2, 3], [1, 2, 3]])\n",
        "B = sp.Matrix([[1, 1, 1], [3, 3, 3], [5, 5, 5]])\n",
        "C = sp.Matrix([[3, 2, 1], [1, 2, 3]])\n",
        "D = sp.Matrix([[1, 2], [3, 4], [5, 6]])\n",
        "\n",
        "# Perform and display each matrix operation\n",
        "# A + BT\n",
        "result_A_BT = A + B.T\n",
        "print(\"A + BT:\")\n",
        "sp.pprint(result_A_BT)\n",
        "print()\n",
        "\n",
        "# 2C + DT\n",
        "result_2C_DT = 2 * C + D.T\n",
        "print(\"2C + DT:\")\n",
        "sp.pprint(result_2C_DT)\n",
        "print()\n",
        "\n",
        "# C + DT\n",
        "result_C_DT = C + D.T\n",
        "print(\"C + DT:\")\n",
        "sp.pprint(result_C_DT)\n",
        "print()\n",
        "\n",
        "# (A - B)T\n",
        "result_A_minus_B_T = (A - B).T\n",
        "print(\"(A - B)T:\")\n",
        "sp.pprint(result_A_minus_B_T)\n",
        "print()\n",
        "\n",
        "# C+BT - not a valid operation due to matrix dimensions.\n"
      ],
      "metadata": {
        "colab": {
          "base_uri": "https://localhost:8080/"
        },
        "id": "D83A2HMGVC0d",
        "outputId": "770d0bc3-9e3b-483b-adee-f8f7a397ff6d"
      },
      "execution_count": 8,
      "outputs": [
        {
          "output_type": "stream",
          "name": "stdout",
          "text": [
            "A + BT:\n",
            "⎡2  5  8⎤\n",
            "⎢       ⎥\n",
            "⎢2  5  8⎥\n",
            "⎢       ⎥\n",
            "⎣2  5  8⎦\n",
            "\n",
            "2C + DT:\n",
            "⎡7  7  7 ⎤\n",
            "⎢        ⎥\n",
            "⎣4  8  12⎦\n",
            "\n",
            "C + DT:\n",
            "⎡4  5  6⎤\n",
            "⎢       ⎥\n",
            "⎣3  6  9⎦\n",
            "\n",
            "(A - B)T:\n",
            "⎡0  -2  -4⎤\n",
            "⎢         ⎥\n",
            "⎢1  -1  -3⎥\n",
            "⎢         ⎥\n",
            "⎣2  0   -2⎦\n",
            "\n"
          ]
        }
      ]
    },
    {
      "cell_type": "markdown",
      "source": [
        "4\n"
      ],
      "metadata": {
        "id": "q-j86EOoWk8R"
      }
    },
    {
      "cell_type": "code",
      "source": [
        "import sympy as sp\n",
        "\n",
        "# Define the matrices and vectors\n",
        "A = sp.Matrix([[1, 2, -2], [1, -1, 0], [-2, 2, -3]])\n",
        "B = sp.Matrix([[1, 2], [2, -2], [0, 1]])\n",
        "C = sp.Matrix([[1, 1, 1, 1], [2, 2, 2, 2]])\n",
        "D = sp.Matrix([[2, 2], [3, 1]])\n",
        "v = sp.Matrix([1, 1, 1])\n",
        "u = sp.Matrix([1, -1])\n",
        "\n",
        "# Perform the matrix operations\n",
        "# Av\n",
        "result_Av = A * v\n",
        "print(\"Av:\")\n",
        "sp.pprint(result_Av)\n",
        "\n",
        "# AB\n",
        "result_AB = A * B\n",
        "print(\"\\nAB:\")\n",
        "sp.pprint(result_AB)\n",
        "\n",
        "# BC\n",
        "result_BC = B * C\n",
        "print(\"\\nBC:\")\n",
        "sp.pprint(result_BC)\n",
        "\n",
        "# DC\n",
        "result_DC = D * C\n",
        "print(\"\\nDC:\")\n",
        "sp.pprint(result_DC)\n",
        "\n",
        "# BDu\n",
        "result_BDu = B * D * u\n",
        "print(\"\\nBDu:\")\n",
        "sp.pprint(result_BDu)\n",
        "\n"
      ],
      "metadata": {
        "colab": {
          "base_uri": "https://localhost:8080/"
        },
        "id": "2HBgoZEoXa1l",
        "outputId": "f456dbba-b256-473b-e9e3-0668ffdd02a0"
      },
      "execution_count": 9,
      "outputs": [
        {
          "output_type": "stream",
          "name": "stdout",
          "text": [
            "Av:\n",
            "⎡1 ⎤\n",
            "⎢  ⎥\n",
            "⎢0 ⎥\n",
            "⎢  ⎥\n",
            "⎣-3⎦\n",
            "\n",
            "AB:\n",
            "⎡5   -4 ⎤\n",
            "⎢       ⎥\n",
            "⎢-1   4 ⎥\n",
            "⎢       ⎥\n",
            "⎣2   -11⎦\n",
            "\n",
            "BC:\n",
            "⎡5   5   5   5 ⎤\n",
            "⎢              ⎥\n",
            "⎢-2  -2  -2  -2⎥\n",
            "⎢              ⎥\n",
            "⎣2   2   2   2 ⎦\n",
            "\n",
            "DC:\n",
            "⎡6  6  6  6⎤\n",
            "⎢          ⎥\n",
            "⎣5  5  5  5⎦\n",
            "\n",
            "BDu:\n",
            "⎡4 ⎤\n",
            "⎢  ⎥\n",
            "⎢-4⎥\n",
            "⎢  ⎥\n",
            "⎣2 ⎦\n"
          ]
        }
      ]
    },
    {
      "cell_type": "markdown",
      "source": [
        "5"
      ],
      "metadata": {
        "id": "s5ecvt2AXeG9"
      }
    },
    {
      "cell_type": "code",
      "source": [
        "import sympy as sp\n",
        "\n",
        "# Create the 4x4 identity matrix\n",
        "I4 = sp.eye(4)\n",
        "\n",
        "# Create the elementary matrix E by swapping rows 2 and 4 in I4\n",
        "E = I4.copy()\n",
        "E.row_swap(1, 3)\n",
        "\n",
        "(a)\n",
        "print(\"Elementary Matrix E:\")\n",
        "sp.pprint(E)\n",
        "print()\n",
        "\n",
        "(b)\n",
        "E_squared = E**2\n",
        "print(\"E squared (E^2):\")\n",
        "sp.pprint(E_squared)\n",
        "print()\n",
        "\n",
        "(c)\n",
        "E_cubed = E**3\n",
        "print(\"E cubed (E^3):\")\n",
        "sp.pprint(E_cubed)\n"
      ],
      "metadata": {
        "colab": {
          "base_uri": "https://localhost:8080/"
        },
        "id": "9dXqQVF5X-1G",
        "outputId": "e92a5eea-d398-4b2b-a04c-b54943e3d9ec"
      },
      "execution_count": 11,
      "outputs": [
        {
          "output_type": "stream",
          "name": "stdout",
          "text": [
            "Elementary Matrix E:\n",
            "⎡1  0  0  0⎤\n",
            "⎢          ⎥\n",
            "⎢0  0  0  1⎥\n",
            "⎢          ⎥\n",
            "⎢0  0  1  0⎥\n",
            "⎢          ⎥\n",
            "⎣0  1  0  0⎦\n",
            "\n",
            "E squared (E^2):\n",
            "⎡1  0  0  0⎤\n",
            "⎢          ⎥\n",
            "⎢0  1  0  0⎥\n",
            "⎢          ⎥\n",
            "⎢0  0  1  0⎥\n",
            "⎢          ⎥\n",
            "⎣0  0  0  1⎦\n",
            "\n",
            "E cubed (E^3):\n",
            "⎡1  0  0  0⎤\n",
            "⎢          ⎥\n",
            "⎢0  0  0  1⎥\n",
            "⎢          ⎥\n",
            "⎢0  0  1  0⎥\n",
            "⎢          ⎥\n",
            "⎣0  1  0  0⎦\n"
          ]
        }
      ]
    },
    {
      "cell_type": "code",
      "source": [],
      "metadata": {
        "id": "s5A2Z1fnYDkC"
      },
      "execution_count": null,
      "outputs": []
    },
    {
      "cell_type": "markdown",
      "source": [
        "#6\n"
      ],
      "metadata": {
        "id": "XqPGl9GAaA8r"
      }
    },
    {
      "cell_type": "code",
      "source": [
        "print(\"Statement: If A and B are n x n matrices, and A is invertible, then (ABA^(-1))^2 = AB^2A^(-1).\")\n",
        "print(\"\\nProof:\\n\")\n",
        "\n",
        "# Step 1: Start with the LHS\n",
        "print(\"   (ABA^(-1))^2 = ABA^(-1)ABA^(-1)\")\n",
        "\n",
        "# Step 2: Use associative property\n",
        "print(\"   = AB(A^(-1)A)BA^(-1)\")\n",
        "\n",
        "# Step 3: A^(-1)A is the identity matrix I\n",
        "print(\"   = ABI BA^(-1)\")\n",
        "\n",
        "# Step 4: IB is just B\n",
        "print(\"   = ABBA^(-1)\")\n",
        "\n",
        "# Step 5: Simplify to RHS\n",
        "print(\"   = AB^2A^(-1)\")\n",
        "\n",
        "# Conclusion\n",
        "print(\"\\nTherefore, (ABA^(-1))^2 = AB^2A^(-1).\")\n"
      ],
      "metadata": {
        "colab": {
          "base_uri": "https://localhost:8080/"
        },
        "id": "GfjVqUTfaCUK",
        "outputId": "54d71e67-17a3-4dfd-f548-976bb77152f3"
      },
      "execution_count": 13,
      "outputs": [
        {
          "output_type": "stream",
          "name": "stdout",
          "text": [
            "Statement: If A and B are n x n matrices, and A is invertible, then (ABA^(-1))^2 = AB^2A^(-1).\n",
            "\n",
            "Proof:\n",
            "\n",
            "   (ABA^(-1))^2 = ABA^(-1)ABA^(-1)\n",
            "   = AB(A^(-1)A)BA^(-1)\n",
            "   = ABI BA^(-1)\n",
            "   = ABBA^(-1)\n",
            "   = AB^2A^(-1)\n",
            "\n",
            "Therefore, (ABA^(-1))^2 = AB^2A^(-1).\n"
          ]
        }
      ]
    },
    {
      "cell_type": "markdown",
      "source": [
        "7"
      ],
      "metadata": {
        "id": "h-qJmpl4a4Gb"
      }
    },
    {
      "cell_type": "code",
      "source": [
        "import sympy as sp\n",
        "\n",
        "# Define 2x2 invertible matrices A and B\n",
        "A = sp.Matrix([[1, 2], [3, 4]])  # Example of an invertible matrix\n",
        "B = sp.Matrix([[2, 0], [1, 3]])  # Another example of an invertible matrix\n",
        "\n",
        "# a) Find A−1\n",
        "A_inv = A.inv()\n",
        "print(\"A^-1:\")\n",
        "sp.pprint(A_inv)\n",
        "print()\n",
        "\n",
        "# b) Find B−1\n",
        "B_inv = B.inv()\n",
        "print(\"B^-1:\")\n",
        "sp.pprint(B_inv)\n",
        "print()\n",
        "\n",
        "# c) Find the matrix D = B−1 A−1\n",
        "D = B_inv * A_inv\n",
        "print(\"D = B^-1 A^-1:\")\n",
        "sp.pprint(D)\n",
        "print()\n",
        "\n",
        "# d) Find the matrix C = AB\n",
        "C = A * B\n",
        "print(\"C = AB:\")\n",
        "sp.pprint(C)\n",
        "print()\n",
        "\n",
        "# e) Find the matrix C−1\n",
        "C_inv = C.inv()\n",
        "print(\"C^-1:\")\n",
        "sp.pprint(C_inv)\n"
      ],
      "metadata": {
        "colab": {
          "base_uri": "https://localhost:8080/"
        },
        "id": "WKdHUV76a5Qc",
        "outputId": "a7ad659b-689f-4fcb-ca37-908d1357149c"
      },
      "execution_count": 14,
      "outputs": [
        {
          "output_type": "stream",
          "name": "stdout",
          "text": [
            "A^-1:\n",
            "⎡-2    1  ⎤\n",
            "⎢         ⎥\n",
            "⎣3/2  -1/2⎦\n",
            "\n",
            "B^-1:\n",
            "⎡1/2    0 ⎤\n",
            "⎢         ⎥\n",
            "⎣-1/6  1/3⎦\n",
            "\n",
            "D = B^-1 A^-1:\n",
            "⎡-1   1/2 ⎤\n",
            "⎢         ⎥\n",
            "⎣5/6  -1/3⎦\n",
            "\n",
            "C = AB:\n",
            "⎡4   6 ⎤\n",
            "⎢      ⎥\n",
            "⎣10  12⎦\n",
            "\n",
            "C^-1:\n",
            "⎡-1   1/2 ⎤\n",
            "⎢         ⎥\n",
            "⎣5/6  -1/3⎦\n"
          ]
        }
      ]
    },
    {
      "cell_type": "code",
      "source": [
        "#8"
      ],
      "metadata": {
        "id": "vqSZryzibtxa"
      },
      "execution_count": null,
      "outputs": []
    },
    {
      "cell_type": "code",
      "source": [
        "import sympy as sp\n",
        "\n",
        "# Define the matrix\n",
        "matrix = sp.Matrix([[1, 2, 2], [2, 5, 4], [0, 2, 1]])\n",
        "\n",
        "# Find the inverse of the matrix\n",
        "matrix_inv = matrix.inv()\n",
        "print(\"The inverse of the matrix is:\")\n",
        "sp.pprint(matrix_inv)\n"
      ],
      "metadata": {
        "colab": {
          "base_uri": "https://localhost:8080/"
        },
        "id": "8DhxmK1nbvVa",
        "outputId": "b3c84aee-6d3d-496b-ea19-095a5984fc1a"
      },
      "execution_count": 15,
      "outputs": [
        {
          "output_type": "stream",
          "name": "stdout",
          "text": [
            "The inverse of the matrix is:\n",
            "⎡-3  2   -2⎤\n",
            "⎢          ⎥\n",
            "⎢-2  1   0 ⎥\n",
            "⎢          ⎥\n",
            "⎣4   -2  1 ⎦\n"
          ]
        }
      ]
    }
  ]
}